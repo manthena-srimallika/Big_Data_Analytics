{
 "cells": [
  {
   "cell_type": "markdown",
   "id": "ab23f4d9-eae2-41ec-84ff-4062c6c8b530",
   "metadata": {},
   "source": [
    "# Explore how the collect() operation works in PySpark using a dataset with basic RDD operations"
   ]
  },
  {
   "cell_type": "markdown",
   "id": "30b6a904-f858-41a2-8997-42f2fab8fa9f",
   "metadata": {},
   "source": [
    "# Dataset Overview\n",
    "\n",
    "Total Records: 50 students\n",
    "\n",
    "Columns: 7 → id, name, age, gender, math, science, english\n",
    "\n",
    "No missing values\n",
    "\n",
    "# Demographics\n",
    "\n",
    "Age: 18 – 25 years (average ≈ 21.5)\n",
    "\n",
    "Gender: 29 Female, 21 Male\n",
    "\n",
    "# Academic Performance\n",
    "\n",
    "# Math:\n",
    "\n",
    "Range: 40 – 100\n",
    "\n",
    "Mean: 68.9\n",
    "\n",
    "Std. Dev.: 17.6 (high variation)\n",
    "\n",
    "# Science:\n",
    "\n",
    "Range: 44 – 99\n",
    "\n",
    "Mean: 70.2\n",
    "\n",
    "Std. Dev.: 14.6 (moderate variation)\n",
    "\n",
    "# English:\n",
    "\n",
    "Range: 42 – 100\n",
    "\n",
    "Mean: 69.4\n",
    "\n",
    "Std. Dev.: 18.7 (highest variation)\n",
    "\n",
    "# Key Insights\n",
    "\n",
    "Science is the strongest subject on average.\n",
    "\n",
    "English has the most variation in performance.\n",
    "\n",
    "Students perform differently across subjects (not uniform)."
   ]
  },
  {
   "cell_type": "code",
   "execution_count": 1,
   "id": "90c87fe5-eb3c-48fe-96a8-d506d7292f0b",
   "metadata": {},
   "outputs": [
    {
     "data": {
      "text/html": [
       "\n",
       "        <div>\n",
       "            <p><b>SparkContext</b></p>\n",
       "\n",
       "            <p><a href=\"http://VARUN7777:4041\">Spark UI</a></p>\n",
       "\n",
       "            <dl>\n",
       "              <dt>Version</dt>\n",
       "                <dd><code>v4.0.1</code></dd>\n",
       "              <dt>Master</dt>\n",
       "                <dd><code>local[*]</code></dd>\n",
       "              <dt>AppName</dt>\n",
       "                <dd><code>PySparkShell</code></dd>\n",
       "            </dl>\n",
       "        </div>\n",
       "        "
      ],
      "text/plain": [
       "<SparkContext master=local[*] appName=PySparkShell>"
      ]
     },
     "execution_count": 1,
     "metadata": {},
     "output_type": "execute_result"
    }
   ],
   "source": [
    "sc"
   ]
  },
  {
   "cell_type": "code",
   "execution_count": 7,
   "id": "2565c57b-edec-41bd-9422-4284b3008ab7",
   "metadata": {},
   "outputs": [],
   "source": [
    "data = sc.textFile(\"students.csv\")"
   ]
  },
  {
   "cell_type": "code",
   "execution_count": 8,
   "id": "5dd809ec-dd81-415c-ab94-4baeef6dd64a",
   "metadata": {},
   "outputs": [],
   "source": [
    "header = data.first()\n",
    "rows = data.filter(lambda line: line != header)"
   ]
  },
  {
   "cell_type": "code",
   "execution_count": 9,
   "id": "1efb0ce7-8ab5-43c4-89cc-25c03714a848",
   "metadata": {},
   "outputs": [],
   "source": [
    "split_rdd = rows.map(lambda line: line.split(\",\"))"
   ]
  },
  {
   "cell_type": "code",
   "execution_count": 11,
   "id": "a022e1ca-a22d-43b5-929b-776d7e4aea07",
   "metadata": {},
   "outputs": [
    {
     "name": "stdout",
     "output_type": "stream",
     "text": [
      "=== Student Dataset (first 10 rows) ===\n",
      "['1', 'Alice', '20', 'F', '66', '92', '44']\n",
      "['2', 'Bob', '20', 'M', '82', '52', '77']\n",
      "['3', 'Charlie', '22', 'F', '43', '57', '76']\n",
      "['4', 'David', '19', 'M', '95', '69', '46']\n",
      "['5', 'Eva', '19', 'F', '62', '44', '96']\n",
      "['6', 'Frank', '22', 'F', '70', '78', '94']\n",
      "['7', 'Grace', '24', 'F', '67', '66', '93']\n",
      "['8', 'Henry', '21', 'F', '53', '82', '60']\n",
      "['9', 'Ivy', '19', 'M', '64', '52', '46']\n",
      "['10', 'Jack', '19', 'F', '44', '59', '60']\n"
     ]
    }
   ],
   "source": [
    "print(\"=== Student Dataset (first 10 rows) ===\")\n",
    "for row in split_rdd.take(10):   # you can change 10 → 20, 50 etc.\n",
    "    print(row)"
   ]
  },
  {
   "cell_type": "code",
   "execution_count": 12,
   "id": "eaf0f69a-7766-4030-94fc-4743d4f52142",
   "metadata": {},
   "outputs": [],
   "source": [
    "students_rdd = split_rdd.map(lambda x: (int(x[0]), x[1], int(x[2]), x[3], int(x[4]), int(x[5]), int(x[6])))"
   ]
  },
  {
   "cell_type": "code",
   "execution_count": 13,
   "id": "503c17e6-5e48-4c99-a751-155b21b4f73e",
   "metadata": {},
   "outputs": [],
   "source": [
    "avg_marks_rdd = students_rdd.map(lambda x: (x[1], (x[4] + x[5] + x[6]) / 3))"
   ]
  },
  {
   "cell_type": "code",
   "execution_count": 14,
   "id": "cf6ca4ec-78d9-4518-986b-ea62220a5275",
   "metadata": {},
   "outputs": [],
   "source": [
    "passed_rdd = avg_marks_rdd.filter(lambda x: x[1] >= 75)"
   ]
  },
  {
   "cell_type": "code",
   "execution_count": 15,
   "id": "1cd2c5e8-c9fc-45c1-bda7-af63cb6d9bee",
   "metadata": {},
   "outputs": [],
   "source": [
    "sorted_passed_rdd = passed_rdd.sortBy(lambda x: x[1], ascending=False)"
   ]
  },
  {
   "cell_type": "code",
   "execution_count": 16,
   "id": "0ef8a5d7-e5f3-4a74-a57f-b9923f58ebad",
   "metadata": {},
   "outputs": [],
   "source": [
    "results = sorted_passed_rdd.collect()"
   ]
  },
  {
   "cell_type": "code",
   "execution_count": 18,
   "id": "22996c34-9137-441a-ae8a-5efc2e2ac8eb",
   "metadata": {},
   "outputs": [
    {
     "name": "stdout",
     "output_type": "stream",
     "text": [
      "=== Students with Average >= 75 ===\n",
      "Name: Leo, Avg Marks: 88.00\n",
      "Name: Olivia, Avg Marks: 88.00\n",
      "Name: Rita, Avg Marks: 86.67\n",
      "Name: Kathy, Avg Marks: 81.67\n",
      "Name: George, Avg Marks: 81.67\n",
      "Name: Frank, Avg Marks: 80.67\n",
      "Name: Oscar, Avg Marks: 80.00\n",
      "Name: Uma, Avg Marks: 78.33\n",
      "Name: Kyle, Avg Marks: 78.33\n",
      "Name: Matt, Avg Marks: 78.33\n",
      "Name: Tina, Avg Marks: 76.00\n",
      "Name: Victor, Avg Marks: 75.67\n",
      "Name: Grace, Avg Marks: 75.33\n",
      "Name: Mona, Avg Marks: 75.00\n",
      "Name: Will, Avg Marks: 75.00\n"
     ]
    }
   ],
   "source": [
    "print(\"=== Students with Average >= 75 ===\")\n",
    "for student in results:\n",
    "    print(f\"Name: {student[0]}, Avg Marks: {student[1]:.2f}\")"
   ]
  },
  {
   "cell_type": "code",
   "execution_count": 20,
   "id": "cf4bbb08-89ec-458e-b75d-0f455a57db24",
   "metadata": {},
   "outputs": [
    {
     "name": "stdout",
     "output_type": "stream",
     "text": [
      "\n",
      "Number of students who passed: 15\n"
     ]
    }
   ],
   "source": [
    "count_passed = passed_rdd.count()\n",
    "print(\"\\nNumber of students who passed:\", count_passed)"
   ]
  },
  {
   "cell_type": "code",
   "execution_count": 21,
   "id": "64ae4b23-dba9-4d80-877f-e6c263489c72",
   "metadata": {},
   "outputs": [
    {
     "name": "stdout",
     "output_type": "stream",
     "text": [
      "Topper: ('Olivia', 88.0)\n"
     ]
    }
   ],
   "source": [
    "topper = passed_rdd.reduce(lambda a, b: a if a[1] > b[1] else b)\n",
    "print(\"Topper:\", topper)"
   ]
  },
  {
   "cell_type": "code",
   "execution_count": 22,
   "id": "43c1197c-e1d0-4059-99a3-c40b5a9e215c",
   "metadata": {},
   "outputs": [
    {
     "name": "stdout",
     "output_type": "stream",
     "text": [
      "\n",
      "First 5 Passed Students (via take):\n",
      "[('Frank', 80.66666666666667), ('Grace', 75.33333333333333), ('Kathy', 81.66666666666667), ('Leo', 88.0), ('Mona', 75.0)]\n"
     ]
    }
   ],
   "source": [
    "print(\"\\nFirst 5 Passed Students (via take):\")\n",
    "print(passed_rdd.take(5))"
   ]
  },
  {
   "cell_type": "markdown",
   "id": "70314ea7-a29a-4572-8b4b-042d6826fee4",
   "metadata": {},
   "source": [
    "# Summary\n",
    "\n",
    "Spark Context setup (sc).\n",
    "\n",
    "# Loading Dataset:\n",
    "\n",
    "data = sc.textFile(\"students.csv\")\n",
    "\n",
    "# Preprocessing:\n",
    "\n",
    "Removed header row.\n",
    "\n",
    "Split lines into fields.\n",
    "\n",
    "# Transformations:\n",
    "\n",
    "map() → convert rows into structured format.\n",
    "\n",
    "filter() → apply conditions (e.g., scores/age-based filtering).\n",
    "\n",
    "flatMap() → expand data where needed.\n",
    "\n",
    "# Actions:\n",
    "\n",
    "collect() → retrieve all records.\n",
    "\n",
    "count() → count number of rows.\n",
    "\n",
    "first(), take(n) → preview sample records.\n",
    "\n",
    "# Aggregations:\n",
    "\n",
    "reduceByKey() / groupByKey() for subject-wise or student-wise operations.\n",
    "\n",
    "Possibly word count–style demo for understanding RDD basics."
   ]
  }
 ],
 "metadata": {
  "kernelspec": {
   "display_name": "Python 3 (ipykernel)",
   "language": "python",
   "name": "python3"
  },
  "language_info": {
   "codemirror_mode": {
    "name": "ipython",
    "version": 3
   },
   "file_extension": ".py",
   "mimetype": "text/x-python",
   "name": "python",
   "nbconvert_exporter": "python",
   "pygments_lexer": "ipython3",
   "version": "3.12.7"
  }
 },
 "nbformat": 4,
 "nbformat_minor": 5
}
