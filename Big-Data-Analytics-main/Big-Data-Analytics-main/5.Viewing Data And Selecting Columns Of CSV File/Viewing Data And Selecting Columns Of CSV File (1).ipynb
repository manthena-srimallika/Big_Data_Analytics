{
 "cells": [
  {
   "cell_type": "markdown",
   "id": "caeb57c5-62da-4281-a453-41ab504ccd69",
   "metadata": {},
   "source": [
    "# Create a DataFrame in PySpark and apply basic operationssuch as viewing data and selecting columns"
   ]
  },
  {
   "cell_type": "markdown",
   "id": "bff12c10-64e7-4fa6-a331-999703a7f647",
   "metadata": {},
   "source": [
    "# Dataset Overview\n",
    "\n",
    "Total Records: 50 students\n",
    "\n",
    "Columns: 7 → id, name, age, gender, math, science, english\n",
    "\n",
    "No missing values\n",
    "\n",
    "# Demographics\n",
    "\n",
    "Age: 18 – 25 years (average ≈ 21.5)\n",
    "\n",
    "Gender: 29 Female, 21 Male\n",
    "\n",
    "# Academic Performance\n",
    "\n",
    "# Math:\n",
    "\n",
    "Range: 40 – 100\n",
    "\n",
    "Mean: 68.9\n",
    "\n",
    "Std. Dev.: 17.6 (high variation)\n",
    "\n",
    "# Science:\n",
    "\n",
    "Range: 44 – 99\n",
    "\n",
    "Mean: 70.2\n",
    "\n",
    "Std. Dev.: 14.6 (moderate variation)\n",
    "\n",
    "# English:\n",
    "\n",
    "Range: 42 – 100\n",
    "\n",
    "Mean: 69.4\n",
    "\n",
    "Std. Dev.: 18.7 (highest variation)\n",
    "\n",
    "# Key Insights\n",
    "\n",
    "Science is the strongest subject on average.\n",
    "\n",
    "English has the most variation in performance.\n",
    "\n",
    "Students perform differently across subjects (not uniform)."
   ]
  },
  {
   "cell_type": "code",
   "execution_count": 1,
   "id": "aaff45f8-d595-44ac-8523-fe0bf229e431",
   "metadata": {},
   "outputs": [
    {
     "data": {
      "text/html": [
       "\n",
       "        <div>\n",
       "            <p><b>SparkContext</b></p>\n",
       "\n",
       "            <p><a href=\"http://VARUN7777:4042\">Spark UI</a></p>\n",
       "\n",
       "            <dl>\n",
       "              <dt>Version</dt>\n",
       "                <dd><code>v4.0.1</code></dd>\n",
       "              <dt>Master</dt>\n",
       "                <dd><code>local[*]</code></dd>\n",
       "              <dt>AppName</dt>\n",
       "                <dd><code>PySparkShell</code></dd>\n",
       "            </dl>\n",
       "        </div>\n",
       "        "
      ],
      "text/plain": [
       "<SparkContext master=local[*] appName=PySparkShell>"
      ]
     },
     "execution_count": 1,
     "metadata": {},
     "output_type": "execute_result"
    }
   ],
   "source": [
    "sc"
   ]
  },
  {
   "cell_type": "code",
   "execution_count": 3,
   "id": "d6075685-1738-4451-ad44-d265ed7abf14",
   "metadata": {},
   "outputs": [],
   "source": [
    "from pyspark.sql import SparkSession\n",
    "spark = SparkSession.builder.appName(\"BasicDataFrameOps\").getOrCreate()"
   ]
  },
  {
   "cell_type": "code",
   "execution_count": 4,
   "id": "be19d09b-a00b-4bea-b31e-36e0d8c7606e",
   "metadata": {},
   "outputs": [],
   "source": [
    "df = spark.read.csv(\"students.csv\", header=True, inferSchema=True)"
   ]
  },
  {
   "cell_type": "code",
   "execution_count": 5,
   "id": "6806b858-2727-4d2b-b8f1-1f370c83404c",
   "metadata": {},
   "outputs": [
    {
     "name": "stdout",
     "output_type": "stream",
     "text": [
      "=== First 5 rows ===\n",
      "+---+-------+---+------+----+-------+-------+\n",
      "| id|   name|age|gender|math|science|english|\n",
      "+---+-------+---+------+----+-------+-------+\n",
      "|  1|  Alice| 20|     F|  66|     92|     44|\n",
      "|  2|    Bob| 20|     M|  82|     52|     77|\n",
      "|  3|Charlie| 22|     F|  43|     57|     76|\n",
      "|  4|  David| 19|     M|  95|     69|     46|\n",
      "|  5|    Eva| 19|     F|  62|     44|     96|\n",
      "+---+-------+---+------+----+-------+-------+\n",
      "only showing top 5 rows\n"
     ]
    }
   ],
   "source": [
    "print(\"=== First 5 rows ===\")\n",
    "df.show(5)"
   ]
  },
  {
   "cell_type": "code",
   "execution_count": 6,
   "id": "428ece3b-4eaa-4b4c-a954-541ee7b9e5cb",
   "metadata": {},
   "outputs": [
    {
     "name": "stdout",
     "output_type": "stream",
     "text": [
      "=== Schema ===\n",
      "root\n",
      " |-- id: integer (nullable = true)\n",
      " |-- name: string (nullable = true)\n",
      " |-- age: integer (nullable = true)\n",
      " |-- gender: string (nullable = true)\n",
      " |-- math: integer (nullable = true)\n",
      " |-- science: integer (nullable = true)\n",
      " |-- english: integer (nullable = true)\n",
      "\n"
     ]
    }
   ],
   "source": [
    "print(\"=== Schema ===\")\n",
    "df.printSchema()"
   ]
  },
  {
   "cell_type": "code",
   "execution_count": 7,
   "id": "f968b737-9501-48bc-849b-dff23e36f4f3",
   "metadata": {},
   "outputs": [
    {
     "name": "stdout",
     "output_type": "stream",
     "text": [
      "=== Select name and math columns ===\n",
      "+-------+----+\n",
      "|   name|math|\n",
      "+-------+----+\n",
      "|  Alice|  66|\n",
      "|    Bob|  82|\n",
      "|Charlie|  43|\n",
      "|  David|  95|\n",
      "|    Eva|  62|\n",
      "+-------+----+\n",
      "only showing top 5 rows\n"
     ]
    }
   ],
   "source": [
    "print(\"=== Select name and math columns ===\")\n",
    "df.select(\"name\", \"math\").show(5)"
   ]
  },
  {
   "cell_type": "code",
   "execution_count": 8,
   "id": "21b92082-6eea-49dd-a839-c640edfdc1d7",
   "metadata": {},
   "outputs": [
    {
     "name": "stdout",
     "output_type": "stream",
     "text": [
      "=== Students with math >= 80 ===\n",
      "+---+------+---+------+----+-------+-------+\n",
      "| id|  name|age|gender|math|science|english|\n",
      "+---+------+---+------+----+-------+-------+\n",
      "|  2|   Bob| 20|     M|  82|     52|     77|\n",
      "|  4| David| 19|     M|  95|     69|     46|\n",
      "| 11| Kathy| 25|     M|  85|     71|     89|\n",
      "| 12|   Leo| 24|     M|  97|     84|     83|\n",
      "| 15|Olivia| 18|     M|  87|     90|     87|\n",
      "+---+------+---+------+----+-------+-------+\n",
      "only showing top 5 rows\n"
     ]
    }
   ],
   "source": [
    "print(\"=== Students with math >= 80 ===\")\n",
    "df.filter(df.math >= 80).show(5)"
   ]
  },
  {
   "cell_type": "code",
   "execution_count": 9,
   "id": "3938ce0d-99bb-4e40-9ee8-aa66c2301800",
   "metadata": {},
   "outputs": [
    {
     "name": "stdout",
     "output_type": "stream",
     "text": [
      "=== Sorted by science (desc) ===\n",
      "+---+------+---+------+----+-------+-------+\n",
      "| id|  name|age|gender|math|science|english|\n",
      "+---+------+---+------+----+-------+-------+\n",
      "| 27| Aaron| 25|     F|  81|     99|     44|\n",
      "| 32| Fiona| 22|     F|  48|     96|     48|\n",
      "| 33|George| 22|     M|  66|     95|     84|\n",
      "| 29|  Carl| 22|     F|  53|     92|     52|\n",
      "|  1| Alice| 20|     F|  66|     92|     44|\n",
      "+---+------+---+------+----+-------+-------+\n",
      "only showing top 5 rows\n"
     ]
    }
   ],
   "source": [
    "print(\"=== Sorted by science (desc) ===\")\n",
    "df.orderBy(df.science.desc()).show(5)"
   ]
  },
  {
   "cell_type": "code",
   "execution_count": 10,
   "id": "56e73e27-34d8-41cb-9f34-b3baab3d044b",
   "metadata": {},
   "outputs": [
    {
     "name": "stdout",
     "output_type": "stream",
     "text": [
      "Total rows in dataset: 50\n"
     ]
    }
   ],
   "source": [
    "print(\"Total rows in dataset:\", df.count())"
   ]
  },
  {
   "cell_type": "code",
   "execution_count": 11,
   "id": "040583b9-4dfb-45db-bd99-5105ad499ba8",
   "metadata": {},
   "outputs": [
    {
     "name": "stdout",
     "output_type": "stream",
     "text": [
      "Columns: ['id', 'name', 'age', 'gender', 'math', 'science', 'english']\n"
     ]
    }
   ],
   "source": [
    "print(\"Columns:\", df.columns)"
   ]
  },
  {
   "cell_type": "markdown",
   "id": "30079184-46c4-465b-b077-999db28b8780",
   "metadata": {},
   "source": [
    "# Summary\n",
    "\n",
    "Initialization: The notebook initializes a Spark session and reads a CSV file named students.csv into a DataFrame.\n",
    "\n",
    "Data Viewing: It shows the first 5 rows of the DataFrame.\n",
    "\n",
    "Schema and Columns: It prints the schema of the DataFrame, showing the column names and data types, and also lists all column names.\n",
    "\n",
    "Column Selection: It selects and displays a subset of the data, specifically the name and math columns.\n",
    "\n",
    "Filtering: It filters the DataFrame to show only students with a math score greater than or equal to 80.\n",
    "\n",
    "Sorting: It sorts the students in descending order based on their science marks and displays the top 5 results.\n",
    "\n",
    "Counting: It counts and prints the total number of rows in the dataset, which is 50."
   ]
  }
 ],
 "metadata": {
  "kernelspec": {
   "display_name": "Python 3 (ipykernel)",
   "language": "python",
   "name": "python3"
  },
  "language_info": {
   "codemirror_mode": {
    "name": "ipython",
    "version": 3
   },
   "file_extension": ".py",
   "mimetype": "text/x-python",
   "name": "python",
   "nbconvert_exporter": "python",
   "pygments_lexer": "ipython3",
   "version": "3.12.7"
  }
 },
 "nbformat": 4,
 "nbformat_minor": 5
}
